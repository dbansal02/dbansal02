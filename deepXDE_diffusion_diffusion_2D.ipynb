{
  "nbformat": 4,
  "nbformat_minor": 0,
  "metadata": {
    "colab": {
      "provenance": []
    },
    "kernelspec": {
      "name": "python3",
      "display_name": "Python 3"
    },
    "language_info": {
      "name": "python"
    }
  },
  "cells": [
    {
      "cell_type": "markdown",
      "source": [
        "PDE Equation:  $$\\frac{\\partial u}{\\partial t} = D (\\frac{\\partial^2 u}{\\partial x^2} + \\frac{\\partial^2 u}{\\partial y^2})$$\n",
        "\n",
        "BC and IC:  $$u=\\sin(\\pi x) \\cdot e^{-y} \\cdot e^{-t}$$"
      ],
      "metadata": {
        "id": "QQ0iu1J9zjN4"
      }
    },
    {
      "cell_type": "code",
      "source": [
        "! pip install deepxde\n",
        "import deepxde as dde\n",
        "import numpy as np\n",
        "geom= dde.geometry.geometry_2d.Rectangle([-1,-1],[1,1])\n",
        "timedomain=dde.geometry.TimeDomain(0,1)\n",
        "geomtime=dde.geometry.GeometryXTime(geom,timedomain)\n"
      ],
      "metadata": {
        "colab": {
          "base_uri": "https://localhost:8080/"
        },
        "id": "pDlpOwyMzDPb",
        "outputId": "3c7c6bf6-4a33-4a10-c45a-f467e65f3ab6"
      },
      "execution_count": null,
      "outputs": [
        {
          "output_type": "stream",
          "name": "stdout",
          "text": [
            "Requirement already satisfied: deepxde in /usr/local/lib/python3.10/dist-packages (1.10.0)\n",
            "Requirement already satisfied: matplotlib in /usr/local/lib/python3.10/dist-packages (from deepxde) (3.7.1)\n",
            "Requirement already satisfied: numpy in /usr/local/lib/python3.10/dist-packages (from deepxde) (1.23.5)\n",
            "Requirement already satisfied: scikit-learn in /usr/local/lib/python3.10/dist-packages (from deepxde) (1.2.2)\n",
            "Requirement already satisfied: scikit-optimize>=0.9.0 in /usr/local/lib/python3.10/dist-packages (from deepxde) (0.9.0)\n",
            "Requirement already satisfied: scipy in /usr/local/lib/python3.10/dist-packages (from deepxde) (1.11.4)\n",
            "Requirement already satisfied: joblib>=0.11 in /usr/local/lib/python3.10/dist-packages (from scikit-optimize>=0.9.0->deepxde) (1.3.2)\n",
            "Requirement already satisfied: pyaml>=16.9 in /usr/local/lib/python3.10/dist-packages (from scikit-optimize>=0.9.0->deepxde) (23.9.7)\n",
            "Requirement already satisfied: threadpoolctl>=2.0.0 in /usr/local/lib/python3.10/dist-packages (from scikit-learn->deepxde) (3.2.0)\n",
            "Requirement already satisfied: contourpy>=1.0.1 in /usr/local/lib/python3.10/dist-packages (from matplotlib->deepxde) (1.2.0)\n",
            "Requirement already satisfied: cycler>=0.10 in /usr/local/lib/python3.10/dist-packages (from matplotlib->deepxde) (0.12.1)\n",
            "Requirement already satisfied: fonttools>=4.22.0 in /usr/local/lib/python3.10/dist-packages (from matplotlib->deepxde) (4.46.0)\n",
            "Requirement already satisfied: kiwisolver>=1.0.1 in /usr/local/lib/python3.10/dist-packages (from matplotlib->deepxde) (1.4.5)\n",
            "Requirement already satisfied: packaging>=20.0 in /usr/local/lib/python3.10/dist-packages (from matplotlib->deepxde) (23.2)\n",
            "Requirement already satisfied: pillow>=6.2.0 in /usr/local/lib/python3.10/dist-packages (from matplotlib->deepxde) (9.4.0)\n",
            "Requirement already satisfied: pyparsing>=2.3.1 in /usr/local/lib/python3.10/dist-packages (from matplotlib->deepxde) (3.1.1)\n",
            "Requirement already satisfied: python-dateutil>=2.7 in /usr/local/lib/python3.10/dist-packages (from matplotlib->deepxde) (2.8.2)\n",
            "Requirement already satisfied: PyYAML in /usr/local/lib/python3.10/dist-packages (from pyaml>=16.9->scikit-optimize>=0.9.0->deepxde) (6.0.1)\n",
            "Requirement already satisfied: six>=1.5 in /usr/local/lib/python3.10/dist-packages (from python-dateutil>=2.7->matplotlib->deepxde) (1.16.0)\n"
          ]
        }
      ]
    },
    {
      "cell_type": "markdown",
      "source": [
        "## Defining PDE equation"
      ],
      "metadata": {
        "id": "_4R25se9RrgM"
      }
    },
    {
      "cell_type": "code",
      "source": [
        "from deepxde.backend import tf\n",
        "def pde(X, u):\n",
        "    du_X = tf.gradients(u,X)[0]\n",
        "    du_x,du_y,du_t=du_X[:,0:1],du_X[:,1:2],du_X[:,2:3]\n",
        "    du_xx=tf.gradients(du_x,X)[0][:,0:1]\n",
        "    du_yy=tf.gradients(du_y,X)[0][:,1:2]\n",
        "\n",
        "    return du_t - 0.5 * (du_xx+du_yy)"
      ],
      "metadata": {
        "id": "YdR8MBYXMq8A"
      },
      "execution_count": null,
      "outputs": []
    },
    {
      "cell_type": "markdown",
      "source": [
        "## Boundary Condition And Initial Condition"
      ],
      "metadata": {
        "id": "qWzBSeDMRxar"
      }
    },
    {
      "cell_type": "code",
      "source": [
        "def func(x):\n",
        "     return np.sin(np.pi*x[:,0:1])*np.exp(-x[:,1:2])*np.exp(-x[:,2:3])\n",
        "\n",
        "bc = dde.DirichletBC(geomtime, func, lambda _, on_boundary: on_boundary)\n",
        "ic = dde.IC(geomtime, func, lambda _, on_initial: on_initial)\n"
      ],
      "metadata": {
        "id": "LQY36P4vNgLA"
      },
      "execution_count": null,
      "outputs": []
    },
    {
      "cell_type": "markdown",
      "source": [
        "## Training Data\n"
      ],
      "metadata": {
        "id": "McWLK7BFPHK1"
      }
    },
    {
      "cell_type": "code",
      "source": [
        "data= dde.data.TimePDE(\n",
        "    geomtime,\n",
        "    pde,\n",
        "    [bc,ic],\n",
        "    num_domain=4000,\n",
        "    num_boundary=2000,\n",
        "    num_initial=1000,\n",
        "    solution = func,\n",
        "    num_test =1000,\n",
        ")\n"
      ],
      "metadata": {
        "id": "4f-EXxBMPJT6",
        "colab": {
          "base_uri": "https://localhost:8080/"
        },
        "outputId": "71a712d4-86c8-4dc3-e751-afc80e84b05a"
      },
      "execution_count": null,
      "outputs": [
        {
          "output_type": "stream",
          "name": "stdout",
          "text": [
            "Warning: 1000 points required, but 1024 points sampled.\n"
          ]
        }
      ]
    },
    {
      "cell_type": "markdown",
      "source": [
        "# Initializer And Optimizer"
      ],
      "metadata": {
        "id": "5zxZhmWqQbpa"
      }
    },
    {
      "cell_type": "code",
      "source": [
        "initializer = \"Glorot uniform\"\n",
        "Optimizer = \"adam\""
      ],
      "metadata": {
        "id": "6DjdcNoxQe72"
      },
      "execution_count": null,
      "outputs": []
    },
    {
      "cell_type": "markdown",
      "source": [
        "## Neural Network Structure"
      ],
      "metadata": {
        "id": "MOJOOrLyQDry"
      }
    },
    {
      "cell_type": "code",
      "source": [
        "layer_size =[3]+[32]*4+[1]\n",
        "activation = \"tanh\"\n",
        "net = dde.maps.FNN(layer_size,activation,initializer)\n"
      ],
      "metadata": {
        "id": "zypM3WTEQHqc"
      },
      "execution_count": null,
      "outputs": []
    },
    {
      "cell_type": "markdown",
      "source": [
        "## Compile The Model And Train"
      ],
      "metadata": {
        "id": "h6GPoPgwQqDr"
      }
    },
    {
      "cell_type": "code",
      "source": [
        "import time\n",
        "model = dde.Model(data, net)\n",
        "model.compile(\"adam\", lr=0.001)\n",
        "t1 = time.time()\n",
        "\n",
        "losshistory, train_state = model.train(epochs=10000)"
      ],
      "metadata": {
        "colab": {
          "base_uri": "https://localhost:8080/"
        },
        "id": "nLtcVXr7Qv4X",
        "outputId": "a0564626-bd14-4e24-a6b6-a86159df4094"
      },
      "execution_count": null,
      "outputs": [
        {
          "output_type": "stream",
          "name": "stdout",
          "text": [
            "Compiling model...\n",
            "Building feed-forward neural network...\n",
            "'build' took 0.082709 s\n",
            "\n"
          ]
        },
        {
          "output_type": "stream",
          "name": "stderr",
          "text": [
            "/usr/local/lib/python3.10/dist-packages/deepxde/nn/tensorflow_compat_v1/fnn.py:116: UserWarning: `tf.layers.dense` is deprecated and will be removed in a future version. Please use `tf.keras.layers.Dense` instead.\n",
            "  return tf.layers.dense(\n"
          ]
        },
        {
          "output_type": "stream",
          "name": "stdout",
          "text": [
            "'compile' took 1.057050 s\n",
            "\n",
            "Warning: epochs is deprecated and will be removed in a future version. Use iterations instead.\n",
            "Training model...\n",
            "\n",
            "Step      Train loss                        Test loss                         Test metric\n",
            "0         [2.00e-01, 5.69e-01, 1.13e+00]    [2.15e-01, 5.69e-01, 1.13e+00]    []  \n",
            "1000      [6.83e-03, 9.01e-03, 7.81e-03]    [4.18e-03, 9.01e-03, 7.81e-03]    []  \n",
            "2000      [1.92e-03, 2.71e-03, 1.45e-03]    [1.45e-03, 2.71e-03, 1.45e-03]    []  \n",
            "3000      [1.13e-03, 1.78e-03, 6.69e-04]    [9.91e-04, 1.78e-03, 6.69e-04]    []  \n",
            "4000      [8.36e-04, 1.40e-03, 5.25e-04]    [7.03e-04, 1.40e-03, 5.25e-04]    []  \n",
            "5000      [6.39e-04, 1.16e-03, 4.71e-04]    [4.97e-04, 1.16e-03, 4.71e-04]    []  \n",
            "6000      [5.27e-04, 9.87e-04, 4.44e-04]    [3.79e-04, 9.87e-04, 4.44e-04]    []  \n",
            "7000      [4.56e-04, 8.59e-04, 4.14e-04]    [3.08e-04, 8.59e-04, 4.14e-04]    []  \n",
            "8000      [4.15e-04, 7.61e-04, 3.80e-04]    [2.66e-04, 7.61e-04, 3.80e-04]    []  \n",
            "9000      [5.27e-04, 7.04e-04, 3.61e-04]    [3.21e-04, 7.04e-04, 3.61e-04]    []  \n",
            "10000     [3.62e-04, 6.08e-04, 3.19e-04]    [2.25e-04, 6.08e-04, 3.19e-04]    []  \n",
            "\n",
            "Best model at step 10000:\n",
            "  train loss: 1.29e-03\n",
            "  test loss: 1.15e-03\n",
            "  test metric: []\n",
            "\n",
            "'train' took 794.739852 s\n",
            "\n"
          ]
        }
      ]
    },
    {
      "cell_type": "markdown",
      "source": [
        "### Results From NN"
      ],
      "metadata": {
        "id": "n_cOBrMKRRpL"
      }
    },
    {
      "cell_type": "code",
      "source": [
        "a = 0.4  # Thermal diffusivity\n",
        "# L = 1  # Length of the bar\n",
        "n = 1  # Frequency of the sinusoidal initial conditions\n",
        "\n",
        "def heat_eq_exact_solution(x, y, t):\n",
        "    norms = np.linalg.norm(np.vstack((x, y)), axis=0)  # Calculate norm along columns (axis=0)\n",
        "    return 1 / (4 * np.pi * a * t) * np.exp(-norms**2 / (4 * a * t))\n",
        "\n",
        "def gen_exact_solution():\n",
        "\n",
        "    # Number of points in each dimension:\n",
        "    x_dim, y_dim, t_dim = (256, 256, 201)\n",
        "\n",
        "    # Bounds of 'x' and 't':\n",
        "    x_min,y_min, t_min = (0,0,0)\n",
        "    x_max,y_max, t_max = (1,1,1)\n",
        "\n",
        "    # Create tensors:\n",
        "    t = np.linspace(t_min, t_max, num=t_dim).reshape(t_dim, 1)\n",
        "    x = np.linspace(x_min, x_max, num=x_dim).reshape(x_dim, 1)\n",
        "    y = np.linspace(y_min, y_max, num=y_dim).reshape(y_dim, 1)\n",
        "    usol = np.zeros((x_dim, y_dim, t_dim)).reshape(x_dim,y_dim, t_dim)\n",
        "\n",
        "    # Obtain the value of the exact solution for each generated point:\n",
        "    x, y, t = np.meshgrid(np.linspace(x_min, x_max, num=x_dim), np.linspace(y_min, y_max, num=y_dim), np.linspace(t_min, t_max, num=t_dim))\n",
        "    usol = heat_eq_exact_solution(x, y, t)\n",
        "\n",
        "\n",
        "    # Save solution:\n",
        "    np.savez(\"heat_eq_data\", x=x, y=y, t=t, usol=usol)\n"
      ],
      "metadata": {
        "id": "DlmTjgVEWgv6"
      },
      "execution_count": null,
      "outputs": []
    },
    {
      "cell_type": "code",
      "source": [
        "\n",
        "gen_exact_solution()"
      ],
      "metadata": {
        "id": "kAhzshA9YCBw",
        "colab": {
          "base_uri": "https://localhost:8080/"
        },
        "outputId": "0a8363c7-8671-4c8f-cf57-bf61c4b149ae"
      },
      "execution_count": null,
      "outputs": [
        {
          "output_type": "stream",
          "name": "stderr",
          "text": [
            "<ipython-input-10-a686ab251f85>:7: RuntimeWarning: divide by zero encountered in divide\n",
            "  return 1 / (4 * np.pi * a * t) * np.exp(-norms**2 / (4 * a * t))\n",
            "<ipython-input-10-a686ab251f85>:7: RuntimeWarning: invalid value encountered in multiply\n",
            "  return 1 / (4 * np.pi * a * t) * np.exp(-norms**2 / (4 * a * t))\n"
          ]
        }
      ]
    },
    {
      "cell_type": "code",
      "source": [
        "# def gen_testdata():\n",
        "#     \"\"\"Import and preprocess the dataset with the exact solution.\"\"\"\n",
        "#     # Load the data:\n",
        "#     data = np.load(\"heat_eq_data.npz\")\n",
        "#     # Obtain the values for t, x, and the excat solution:\n",
        "#     t, x, y, exact = data[\"t\"], data[\"x\"], data[\"y\"], data[\"usol\"].T\n",
        "#     # Process the data and flatten it out (like labels and features):\n",
        "#     xx,yy, tt = np.meshgrid(x,y,t)\n",
        "#     X = np.vstack((np.ravel(xx), np.ravel(yy), np.ravel(tt))).T\n",
        "#     u = exact.flatten()[:, None]\n",
        "#     return X, u\n",
        "def gen_testdata():\n",
        "    \"\"\"Import and preprocess the dataset with the exact solution.\"\"\"\n",
        "    # Load the data:\n",
        "    data = np.load(\"heat_eq_data.npz\")\n",
        "    # Obtain the values for t, x, and the exact solution:\n",
        "    t, x, y, exact = data[\"t\"], data[\"x\"], data[\"y\"], data[\"usol\"].T\n",
        "\n",
        "    # Flatten the meshgrid without creating individual meshgrids for each variable\n",
        "    X = np.column_stack((x.flatten(), y.flatten(), t.flatten()))\n",
        "    u = exact.flatten()[:, None]\n",
        "\n",
        "    return X, u\n",
        "dde.saveplot(losshistory, train_state, issave=True, isplot=True)\n",
        "X, u_true = gen_testdata()\n",
        "u_pred = model.predict(X)\n",
        "f = model.predict(X, operator=pde)\n",
        "print(\"Mean residual:\", np.mean(np.absolute(f)))\n",
        "print(\"L2 relative error:\", dde.metrics.l2_relative_error(u_true, u_pred))\n",
        "np.savetxt(\"test.dat\", np.hstack((X, u_true, u_pred)))"
      ],
      "metadata": {
        "colab": {
          "base_uri": "https://localhost:8080/",
          "height": 503
        },
        "id": "0_cJJIC6RmJr",
        "outputId": "fb93e426-aa14-466c-bdc0-cbb3f58324a7"
      },
      "execution_count": null,
      "outputs": [
        {
          "output_type": "stream",
          "name": "stdout",
          "text": [
            "Saving loss history to /content/loss.dat ...\n",
            "Saving training data to /content/train.dat ...\n",
            "Saving test data to /content/test.dat ...\n"
          ]
        },
        {
          "output_type": "display_data",
          "data": {
            "text/plain": [
              "<Figure size 640x480 with 1 Axes>"
            ],
            "image/png": "[encoded data removed]"
          },
          "metadata": {}
        }
      ]
    }
  ]
}